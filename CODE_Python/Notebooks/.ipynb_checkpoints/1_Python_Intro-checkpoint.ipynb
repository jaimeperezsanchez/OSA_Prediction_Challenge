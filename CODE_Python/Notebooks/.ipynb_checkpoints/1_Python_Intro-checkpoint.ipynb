{
 "cells": [
  {
   "cell_type": "markdown",
   "metadata": {},
   "source": [
    "# <font color=#BB44>A VERY short Python Introduction (MLLB)</font>\n",
    "### Here we will see very basic things\n",
    "\n",
    "## You can follow online - courses, for example: [Datacamp intro Python for Data Science](https://www.datacamp.com/courses/intro-to-python-for-data-science)"
   ]
  },
  {
   "cell_type": "markdown",
   "metadata": {},
   "source": [
    "<font size= 5 color=green>----------------------------------------------------------------</font>\n",
    "<font size= 5 color=green>----------------------------------------------------------------</font>\n",
    "\n",
    "## Variables & Types:\n",
    "\n",
    "### * Case sensitive name\n",
    "### * Operations depend on datatypes\n"
   ]
  },
  {
   "cell_type": "code",
   "execution_count": 1,
   "metadata": {},
   "outputs": [
    {
     "data": {
      "text/plain": [
       "str"
      ]
     },
     "execution_count": 1,
     "metadata": {},
     "output_type": "execute_result"
    }
   ],
   "source": [
    "a=\"hello\"\n",
    "\n",
    "type(a)\n"
   ]
  },
  {
   "cell_type": "code",
   "execution_count": 4,
   "metadata": {},
   "outputs": [
    {
     "data": {
      "text/plain": [
       "'hello world'"
      ]
     },
     "execution_count": 4,
     "metadata": {},
     "output_type": "execute_result"
    }
   ],
   "source": [
    "b = \"world\"\n",
    "\n",
    "a+\" \"+b"
   ]
  },
  {
   "cell_type": "code",
   "execution_count": 5,
   "metadata": {},
   "outputs": [
    {
     "data": {
      "text/plain": [
       "7"
      ]
     },
     "execution_count": 5,
     "metadata": {},
     "output_type": "execute_result"
    }
   ],
   "source": [
    "a = 3\n",
    "b = 4\n",
    "a + b"
   ]
  },
  {
   "cell_type": "markdown",
   "metadata": {},
   "source": [
    "<font size= 5 color=green>----------------------------------------------------------------</font>\n",
    "<font size= 5 color=green>----------------------------------------------------------------</font>\n",
    "\n",
    "## Lists\n",
    "\n",
    "### - Name a collection of values\n",
    "### - Contain any type\n",
    "### - Contain different types\n"
   ]
  },
  {
   "cell_type": "code",
   "execution_count": 8,
   "metadata": {},
   "outputs": [
    {
     "name": "stdout",
     "output_type": "stream",
     "text": [
      "Type of L:  <class 'list'>\n",
      "First value:  3\n",
      "Last value:  numbers\n",
      "The list:  [3, 4, 'numbers']\n"
     ]
    }
   ],
   "source": [
    "L=[a,b,\"numbers\"]\n",
    "\n",
    "print(\"Type of L: \",type(L))\n",
    "\n",
    "print(\"First value: \",L[0])\n",
    "\n",
    "print(\"Last value: \",L[-1])\n",
    "\n",
    "print(\"The list: \",L)"
   ]
  },
  {
   "cell_type": "code",
   "execution_count": 9,
   "metadata": {},
   "outputs": [
    {
     "data": {
      "text/plain": [
       "[3, 4, 'numbers', 3, 4, 'numbers', 3, 4, 'numbers']"
      ]
     },
     "execution_count": 9,
     "metadata": {},
     "output_type": "execute_result"
    }
   ],
   "source": [
    "L*3"
   ]
  },
  {
   "cell_type": "markdown",
   "metadata": {},
   "source": [
    "<font size= 5 color=green>----------------------------------------------------------------</font>\n",
    "<font size= 5 color=green>----------------------------------------------------------------</font>\n",
    "\n",
    "## Packages:\n",
    "\n",
    "### * Directory of Python scripts\n",
    "### * Specific functions, methods, types\n",
    "### * Operations depend on datatypes\n",
    "### * THOUSANDS of Packages available!!! Numpy, Matplotlib, Pandas, Scikit-Learn,...\n"
   ]
  },
  {
   "cell_type": "markdown",
   "metadata": {},
   "source": [
    "## [NumPy is the fundamental package for scientific computing with Python](http://www.numpy.org/)\n",
    "![Imagen Numpy](http://www.numpy.org/_static/numpy_logo.png)"
   ]
  },
  {
   "cell_type": "markdown",
   "metadata": {},
   "source": [
    "## If NOT installed, install a package:\n",
    "### pip install numpy \n",
    "### or\n",
    "### conda install numpy ....)\n",
    "## Then import:\n",
    "### import numpy as np"
   ]
  },
  {
   "cell_type": "code",
   "execution_count": 11,
   "metadata": {},
   "outputs": [
    {
     "name": "stdout",
     "output_type": "stream",
     "text": [
      "Requirement already satisfied: numpy in /home/jaime/.local/lib/python3.7/site-packages (1.17.2)\n",
      "\u001b[33mWARNING: You are using pip version 19.2.3, however version 19.3.1 is available.\n",
      "You should consider upgrading via the 'pip install --upgrade pip' command.\u001b[0m\n"
     ]
    }
   ],
   "source": [
    "! pip install numpy"
   ]
  },
  {
   "cell_type": "code",
   "execution_count": 12,
   "metadata": {},
   "outputs": [],
   "source": [
    "L=[1.2, -9.0, 100.2, -20, -.30]"
   ]
  },
  {
   "cell_type": "code",
   "execution_count": 13,
   "metadata": {},
   "outputs": [
    {
     "data": {
      "text/plain": [
       "list"
      ]
     },
     "execution_count": 13,
     "metadata": {},
     "output_type": "execute_result"
    }
   ],
   "source": [
    "type(L)"
   ]
  },
  {
   "cell_type": "code",
   "execution_count": 14,
   "metadata": {},
   "outputs": [],
   "source": [
    "import numpy as np"
   ]
  },
  {
   "cell_type": "code",
   "execution_count": 15,
   "metadata": {},
   "outputs": [],
   "source": [
    "L_vector = np.array(L)"
   ]
  },
  {
   "cell_type": "code",
   "execution_count": 16,
   "metadata": {},
   "outputs": [
    {
     "data": {
      "text/plain": [
       "numpy.ndarray"
      ]
     },
     "execution_count": 16,
     "metadata": {},
     "output_type": "execute_result"
    }
   ],
   "source": [
    "type(L_vector)"
   ]
  },
  {
   "cell_type": "code",
   "execution_count": 17,
   "metadata": {},
   "outputs": [
    {
     "data": {
      "text/plain": [
       "array([  2.4, -18. , 200.4, -40. ,  -0.6])"
      ]
     },
     "execution_count": 17,
     "metadata": {},
     "output_type": "execute_result"
    }
   ],
   "source": [
    "L_vector*2"
   ]
  },
  {
   "cell_type": "markdown",
   "metadata": {},
   "source": [
    "<font size= 5 color=green>----------------------------------------------------------------</font>\n",
    "<font size= 5 color=green>----------------------------------------------------------------</font>\n",
    "\n",
    "# Learn Python \"Environments\"\n",
    "\n",
    "\n",
    "Python Virtual Environment | Introduction\n",
    "\n",
    "A virtual environment is a tool that helps to keep dependencies required by different projects separate by creating isolated python virtual environments for them. This is one of the most important tools that most of the Python developers use.\n",
    "\n",
    "### [geeksforgeeks.org python-virtual-environment](https://www.geeksforgeeks.org/python-virtual-environment/ )"
   ]
  },
  {
   "cell_type": "markdown",
   "metadata": {},
   "source": [
    "<font size= 5 color=green>----------------------------------------------------------------</font>\n",
    "<font size= 5 color=green>----------------------------------------------------------------</font>\n",
    "\n",
    "## Python Indentation\n",
    "\n",
    "Most of the programming languages like C, C++, Java use braces { } to define a block of code. \n",
    "Python uses indentation.\n",
    "\n",
    "Code block (body of a function, loop etc.) starts with indentation and ends with the first unindented line. The amount of indentation is up to you, but it must be consistent throughout that block.\n",
    "\n",
    "Generally four whitespaces are used for indentation and is preferred over tabs.\n",
    "\n",
    "https://www.programiz.com/python-programming/statement-indentation-comments"
   ]
  },
  {
   "cell_type": "code",
   "execution_count": 18,
   "metadata": {},
   "outputs": [],
   "source": [
    "    a = 1.2\n",
    "b= 1.0"
   ]
  },
  {
   "cell_type": "code",
   "execution_count": 23,
   "metadata": {},
   "outputs": [
    {
     "ename": "IndentationError",
     "evalue": "unindent does not match any outer indentation level (<tokenize>, line 3)",
     "output_type": "error",
     "traceback": [
      "\u001b[0;36m  File \u001b[0;32m\"<tokenize>\"\u001b[0;36m, line \u001b[0;32m3\u001b[0m\n\u001b[0;31m    if i == 5:\u001b[0m\n\u001b[0m    ^\u001b[0m\n\u001b[0;31mIndentationError\u001b[0m\u001b[0;31m:\u001b[0m unindent does not match any outer indentation level\n"
     ]
    }
   ],
   "source": [
    "for i in range(1,11):\n",
    "     print(i)\n",
    "    if i == 5:\n",
    "         break"
   ]
  },
  {
   "cell_type": "code",
   "execution_count": 24,
   "metadata": {},
   "outputs": [
    {
     "name": "stdout",
     "output_type": "stream",
     "text": [
      "value:  1.2 power of two:  1.44\n",
      "value:  -9.0 power of two:  81.0\n",
      "value:  100.2 power of two:  10040.04\n",
      "value:  -20.0 power of two:  400.0\n",
      "value:  -0.3 power of two:  0.09\n"
     ]
    }
   ],
   "source": [
    "for value in L_vector:\n",
    "    print(\"value: \", value, \"power of two: \", value**2)"
   ]
  },
  {
   "cell_type": "markdown",
   "metadata": {},
   "source": [
    "## [Matplotlib is a Python 2D plotting library](https://matplotlib.org/)\n",
    "![Matplotlib Image](https://matplotlib.org/_static/logo2.png)"
   ]
  },
  {
   "cell_type": "code",
   "execution_count": 25,
   "metadata": {},
   "outputs": [
    {
     "data": {
      "text/plain": [
       "Text(0, 0.5, 'y axis')"
      ]
     },
     "execution_count": 25,
     "metadata": {},
     "output_type": "execute_result"
    },
    {
     "data": {
      "image/png": "[encoded data removed]",
      "text/plain": [
       "<Figure size 432x288 with 1 Axes>"
      ]
     },
     "metadata": {
      "needs_background": "light"
     },
     "output_type": "display_data"
    }
   ],
   "source": [
    "import matplotlib.pyplot as plt\n",
    "%matplotlib inline\n",
    "\n",
    "plt.plot(L_vector)\n",
    "plt.xlabel('x axis')\n",
    "plt.ylabel('y axis')"
   ]
  },
  {
   "cell_type": "code",
   "execution_count": 30,
   "metadata": {},
   "outputs": [
    {
     "data": {
      "text/plain": [
       "Text(0, 0.5, 'Weight')"
      ]
     },
     "execution_count": 30,
     "metadata": {},
     "output_type": "execute_result"
    },
    {
     "data": {
      "image/png": "[encoded data removed]",
      "text/plain": [
       "<Figure size 432x288 with 1 Axes>"
      ]
     },
     "metadata": {
      "needs_background": "light"
     },
     "output_type": "display_data"
    }
   ],
   "source": [
    "x = np.random.randn(100)\n",
    "y= np.random.normal(loc = 10.0, scale = 4.0, size = 100)\n",
    "\n",
    "plt.scatter(x,y)\n",
    "plt.xlabel('AHI')\n",
    "plt.ylabel('Weight')"
   ]
  },
  {
   "cell_type": "code",
   "execution_count": 31,
   "metadata": {},
   "outputs": [
    {
     "data": {
      "text/plain": [
       "(array([ 2.,  4., 12., 14., 17., 22., 12.,  9.,  7.,  1.]),\n",
       " array([ 1.04944802,  3.03275669,  5.01606535,  6.99937402,  8.98268268,\n",
       "        10.96599135, 12.94930001, 14.93260868, 16.91591734, 18.89922601,\n",
       "        20.88253468]),\n",
       " <a list of 10 Patch objects>)"
      ]
     },
     "execution_count": 31,
     "metadata": {},
     "output_type": "execute_result"
    },
    {
     "data": {
      "image/png": "[encoded data removed]",
      "text/plain": [
       "<Figure size 432x288 with 1 Axes>"
      ]
     },
     "metadata": {
      "needs_background": "light"
     },
     "output_type": "display_data"
    }
   ],
   "source": [
    "plt.hist(y)"
   ]
  },
  {
   "cell_type": "markdown",
   "metadata": {},
   "source": [
    "<font size= 5 color=green>----------------------------------------------------------------</font>\n",
    "<font size= 5 color=green>----------------------------------------------------------------</font>\n",
    "\n",
    "## Python dictionaries\n",
    "\n",
    "### A special data structure which Python provides natively is the dictionary. Its name already gives away how data is stored: \n",
    "\n",
    "#### *a piece of data or values that can be accessed by a key(word) you have at hand!*"
   ]
  },
  {
   "cell_type": "code",
   "execution_count": 33,
   "metadata": {},
   "outputs": [
    {
     "name": "stdout",
     "output_type": "stream",
     "text": [
      "{'patient': 'P0001', 'IAH': 23, 'Gender': 'female', 'Age': 64}\n"
     ]
    }
   ],
   "source": [
    "dict_OSA = {\n",
    "    \"patient\": \"P0001\",\n",
    "    \"IAH\": 23,\n",
    "    \"Gender\": \"female\",\n",
    "    \"Age\": 64}\n",
    "\n",
    "print(dict_OSA)"
   ]
  },
  {
   "cell_type": "code",
   "execution_count": 34,
   "metadata": {},
   "outputs": [
    {
     "data": {
      "text/plain": [
       "dict_keys(['patient', 'IAH', 'Gender', 'Age'])"
      ]
     },
     "execution_count": 34,
     "metadata": {},
     "output_type": "execute_result"
    }
   ],
   "source": [
    "dict_OSA.keys()"
   ]
  },
  {
   "cell_type": "code",
   "execution_count": 35,
   "metadata": {},
   "outputs": [
    {
     "data": {
      "text/plain": [
       "'female'"
      ]
     },
     "execution_count": 35,
     "metadata": {},
     "output_type": "execute_result"
    }
   ],
   "source": [
    "dict_OSA[\"Gender\"]"
   ]
  },
  {
   "cell_type": "code",
   "execution_count": 39,
   "metadata": {},
   "outputs": [
    {
     "name": "stdout",
     "output_type": "stream",
     "text": [
      "IAH\n"
     ]
    }
   ],
   "source": [
    "looking_for = 23\n",
    "for key, value in dict_OSA.items():\n",
    "    if value == looking_for:\n",
    "        print(key)"
   ]
  },
  {
   "cell_type": "markdown",
   "metadata": {},
   "source": [
    "## You can follow online - courses, as for example: \n",
    "## [Datacamp intro Python for Data Science](https://www.datacamp.com/courses/intro-to-python-for-data-science)"
   ]
  },
  {
   "cell_type": "code",
   "execution_count": null,
   "metadata": {},
   "outputs": [],
   "source": []
  }
 ],
 "metadata": {
  "kernelspec": {
   "display_name": "glsi",
   "language": "python",
   "name": "glsi"
  },
  "language_info": {
   "codemirror_mode": {
    "name": "ipython",
    "version": 3
   },
   "file_extension": ".py",
   "mimetype": "text/x-python",
   "name": "python",
   "nbconvert_exporter": "python",
   "pygments_lexer": "ipython3",
   "version": "3.7.4"
  }
 },
 "nbformat": 4,
 "nbformat_minor": 2
}
